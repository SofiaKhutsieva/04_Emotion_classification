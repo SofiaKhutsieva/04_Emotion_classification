{
 "cells": [
  {
   "cell_type": "code",
   "execution_count": 37,
   "id": "unnecessary-washer",
   "metadata": {},
   "outputs": [],
   "source": [
    "import pandas as pd\n",
    "import shutil\n",
    "import os\n",
    "\n",
    "from sklearn.model_selection import train_test_split"
   ]
  },
  {
   "cell_type": "code",
   "execution_count": 4,
   "id": "signed-lobby",
   "metadata": {},
   "outputs": [],
   "source": [
    "path = 'задание/train.csv'"
   ]
  },
  {
   "cell_type": "code",
   "execution_count": 5,
   "id": "national-supervisor",
   "metadata": {},
   "outputs": [
    {
     "data": {
      "text/html": [
       "<div>\n",
       "<style scoped>\n",
       "    .dataframe tbody tr th:only-of-type {\n",
       "        vertical-align: middle;\n",
       "    }\n",
       "\n",
       "    .dataframe tbody tr th {\n",
       "        vertical-align: top;\n",
       "    }\n",
       "\n",
       "    .dataframe thead th {\n",
       "        text-align: right;\n",
       "    }\n",
       "</style>\n",
       "<table border=\"1\" class=\"dataframe\">\n",
       "  <thead>\n",
       "    <tr style=\"text-align: right;\">\n",
       "      <th></th>\n",
       "      <th>Unnamed: 0</th>\n",
       "      <th>image_path</th>\n",
       "      <th>emotion</th>\n",
       "    </tr>\n",
       "  </thead>\n",
       "  <tbody>\n",
       "    <tr>\n",
       "      <th>0</th>\n",
       "      <td>0</td>\n",
       "      <td>./train/anger/0.jpg</td>\n",
       "      <td>anger</td>\n",
       "    </tr>\n",
       "    <tr>\n",
       "      <th>1</th>\n",
       "      <td>1</td>\n",
       "      <td>./train/anger/1.jpg</td>\n",
       "      <td>anger</td>\n",
       "    </tr>\n",
       "    <tr>\n",
       "      <th>2</th>\n",
       "      <td>2</td>\n",
       "      <td>./train/anger/10.jpg</td>\n",
       "      <td>anger</td>\n",
       "    </tr>\n",
       "    <tr>\n",
       "      <th>3</th>\n",
       "      <td>3</td>\n",
       "      <td>./train/anger/100.jpg</td>\n",
       "      <td>anger</td>\n",
       "    </tr>\n",
       "    <tr>\n",
       "      <th>4</th>\n",
       "      <td>4</td>\n",
       "      <td>./train/anger/1000.jpg</td>\n",
       "      <td>anger</td>\n",
       "    </tr>\n",
       "  </tbody>\n",
       "</table>\n",
       "</div>"
      ],
      "text/plain": [
       "   Unnamed: 0              image_path emotion\n",
       "0           0     ./train/anger/0.jpg   anger\n",
       "1           1     ./train/anger/1.jpg   anger\n",
       "2           2    ./train/anger/10.jpg   anger\n",
       "3           3   ./train/anger/100.jpg   anger\n",
       "4           4  ./train/anger/1000.jpg   anger"
      ]
     },
     "execution_count": 5,
     "metadata": {},
     "output_type": "execute_result"
    }
   ],
   "source": [
    "df = pd.read_csv(path)\n",
    "df.head()"
   ]
  },
  {
   "cell_type": "code",
   "execution_count": 24,
   "id": "civic-subscriber",
   "metadata": {},
   "outputs": [
    {
     "name": "stdout",
     "output_type": "stream",
     "text": [
      "mkdir: cannot create directory ‘data’: File exists\n",
      "mkdir: cannot create directory ‘data/train’: File exists\n",
      "mkdir: cannot create directory ‘data/test’: File exists\n",
      "mkdir: cannot create directory ‘data/val’: File exists\n"
     ]
    }
   ],
   "source": [
    "# создание директорий\n",
    "!mkdir data\n",
    "!mkdir data/train\n",
    "!mkdir data/test\n",
    "!mkdir data/val"
   ]
  },
  {
   "cell_type": "code",
   "execution_count": 53,
   "id": "ideal-kentucky",
   "metadata": {},
   "outputs": [
    {
     "name": "stdout",
     "output_type": "stream",
     "text": [
      "mkdir: cannot create directory ‘data/train/anger’: File exists\n",
      "mkdir: cannot create directory ‘data/train/contempt’: File exists\n",
      "mkdir: cannot create directory ‘data/train/disgust’: File exists\n",
      "mkdir: cannot create directory ‘data/train/fear’: File exists\n",
      "mkdir: cannot create directory ‘data/train/happy’: File exists\n",
      "mkdir: cannot create directory ‘data/train/neutral’: File exists\n",
      "mkdir: cannot create directory ‘data/train/sad’: File exists\n",
      "mkdir: cannot create directory ‘data/train/surprise’: File exists\n",
      "mkdir: cannot create directory ‘data/train/uncertain’: File exists\n"
     ]
    }
   ],
   "source": [
    "for folder in os.listdir('задание/train'):\n",
    "    !mkdir data/train/{folder}\n",
    "    !mkdir data/val/{folder}"
   ]
  },
  {
   "cell_type": "code",
   "execution_count": 36,
   "id": "incredible-science",
   "metadata": {},
   "outputs": [],
   "source": [
    "# копирование train в папку даты\n",
    "for folder in os.listdir('задание/train'):\n",
    "    for file in os.listdir(f'задание/train/{folder}'):\n",
    "        shutil.copy(f'задание/train/{folder}/{file}', f'data/train/{folder}')"
   ]
  },
  {
   "cell_type": "code",
   "execution_count": 54,
   "id": "usual-february",
   "metadata": {},
   "outputs": [
    {
     "name": "stdout",
     "output_type": "stream",
     "text": [
      "anger\n",
      "contempt\n",
      "disgust\n",
      "fear\n",
      "happy\n",
      "neutral\n",
      "sad\n",
      "surprise\n",
      "uncertain\n"
     ]
    }
   ],
   "source": [
    "# создание val в папке даты\n",
    "for folder in os.listdir('data/train'):\n",
    "    print(folder)\n",
    "    _, val_image = train_test_split(os.listdir(f'data/train/{folder}'), test_size=0.2, random_state=42)\n",
    "    for file in val_image:\n",
    "        shutil.move(f'data/train/{folder}/{file}', f'data/val/{folder}/{file}')"
   ]
  },
  {
   "cell_type": "code",
   "execution_count": 92,
   "id": "radical-discipline",
   "metadata": {},
   "outputs": [],
   "source": [
    "# копирование test в папку даты\n",
    "for file in os.listdir(f'задание/test_kaggle'):\n",
    "    shutil.copy(f'задание/test_kaggle/{file}', f'data/test/{file}')"
   ]
  },
  {
   "cell_type": "code",
   "execution_count": null,
   "id": "surprised-belize",
   "metadata": {},
   "outputs": [],
   "source": []
  },
  {
   "cell_type": "code",
   "execution_count": null,
   "id": "documentary-thursday",
   "metadata": {},
   "outputs": [],
   "source": []
  },
  {
   "cell_type": "code",
   "execution_count": 99,
   "id": "acceptable-plastic",
   "metadata": {},
   "outputs": [
    {
     "data": {
      "text/html": [
       "<div>\n",
       "<style scoped>\n",
       "    .dataframe tbody tr th:only-of-type {\n",
       "        vertical-align: middle;\n",
       "    }\n",
       "\n",
       "    .dataframe tbody tr th {\n",
       "        vertical-align: top;\n",
       "    }\n",
       "\n",
       "    .dataframe thead th {\n",
       "        text-align: right;\n",
       "    }\n",
       "</style>\n",
       "<table border=\"1\" class=\"dataframe\">\n",
       "  <thead>\n",
       "    <tr style=\"text-align: right;\">\n",
       "      <th></th>\n",
       "      <th>image_path</th>\n",
       "      <th>emotion</th>\n",
       "    </tr>\n",
       "  </thead>\n",
       "  <tbody>\n",
       "    <tr>\n",
       "      <th>0</th>\n",
       "      <td>0.jpg</td>\n",
       "      <td>neutral</td>\n",
       "    </tr>\n",
       "    <tr>\n",
       "      <th>1</th>\n",
       "      <td>1.jpg</td>\n",
       "      <td>neutral</td>\n",
       "    </tr>\n",
       "    <tr>\n",
       "      <th>2</th>\n",
       "      <td>2.jpg</td>\n",
       "      <td>neutral</td>\n",
       "    </tr>\n",
       "    <tr>\n",
       "      <th>3</th>\n",
       "      <td>3.jpg</td>\n",
       "      <td>neutral</td>\n",
       "    </tr>\n",
       "    <tr>\n",
       "      <th>4</th>\n",
       "      <td>4.jpg</td>\n",
       "      <td>neutral</td>\n",
       "    </tr>\n",
       "  </tbody>\n",
       "</table>\n",
       "</div>"
      ],
      "text/plain": [
       "  image_path  emotion\n",
       "0      0.jpg  neutral\n",
       "1      1.jpg  neutral\n",
       "2      2.jpg  neutral\n",
       "3      3.jpg  neutral\n",
       "4      4.jpg  neutral"
      ]
     },
     "execution_count": 99,
     "metadata": {},
     "output_type": "execute_result"
    }
   ],
   "source": [
    "df = pd.read_csv('задание/sample_submission.csv')\n",
    "df.head()"
   ]
  },
  {
   "cell_type": "code",
   "execution_count": 111,
   "id": "collected-subscriber",
   "metadata": {},
   "outputs": [],
   "source": [
    "path = 'result/submission_file/20220223-162846_epoch_5.csv'"
   ]
  },
  {
   "cell_type": "code",
   "execution_count": 112,
   "id": "following-istanbul",
   "metadata": {},
   "outputs": [
    {
     "data": {
      "text/html": [
       "<div>\n",
       "<style scoped>\n",
       "    .dataframe tbody tr th:only-of-type {\n",
       "        vertical-align: middle;\n",
       "    }\n",
       "\n",
       "    .dataframe tbody tr th {\n",
       "        vertical-align: top;\n",
       "    }\n",
       "\n",
       "    .dataframe thead th {\n",
       "        text-align: right;\n",
       "    }\n",
       "</style>\n",
       "<table border=\"1\" class=\"dataframe\">\n",
       "  <thead>\n",
       "    <tr style=\"text-align: right;\">\n",
       "      <th></th>\n",
       "      <th>image_path</th>\n",
       "      <th>emotion</th>\n",
       "    </tr>\n",
       "  </thead>\n",
       "  <tbody>\n",
       "    <tr>\n",
       "      <th>0</th>\n",
       "      <td>0.jpg</td>\n",
       "      <td>sad</td>\n",
       "    </tr>\n",
       "    <tr>\n",
       "      <th>1</th>\n",
       "      <td>1.jpg</td>\n",
       "      <td>neutral</td>\n",
       "    </tr>\n",
       "    <tr>\n",
       "      <th>2</th>\n",
       "      <td>10.jpg</td>\n",
       "      <td>anger</td>\n",
       "    </tr>\n",
       "    <tr>\n",
       "      <th>3</th>\n",
       "      <td>100.jpg</td>\n",
       "      <td>surprise</td>\n",
       "    </tr>\n",
       "    <tr>\n",
       "      <th>4</th>\n",
       "      <td>1000.jpg</td>\n",
       "      <td>happy</td>\n",
       "    </tr>\n",
       "  </tbody>\n",
       "</table>\n",
       "</div>"
      ],
      "text/plain": [
       "  image_path   emotion\n",
       "0      0.jpg       sad\n",
       "1      1.jpg   neutral\n",
       "2     10.jpg     anger\n",
       "3    100.jpg  surprise\n",
       "4   1000.jpg     happy"
      ]
     },
     "execution_count": 112,
     "metadata": {},
     "output_type": "execute_result"
    }
   ],
   "source": [
    "df = pd.read_csv(path)\n",
    "df.head()"
   ]
  },
  {
   "cell_type": "code",
   "execution_count": null,
   "id": "fourth-coupon",
   "metadata": {},
   "outputs": [],
   "source": []
  }
 ],
 "metadata": {
  "kernelspec": {
   "display_name": "Python 3",
   "language": "python",
   "name": "python3"
  },
  "language_info": {
   "codemirror_mode": {
    "name": "ipython",
    "version": 3
   },
   "file_extension": ".py",
   "mimetype": "text/x-python",
   "name": "python",
   "nbconvert_exporter": "python",
   "pygments_lexer": "ipython3",
   "version": "3.6.8"
  }
 },
 "nbformat": 4,
 "nbformat_minor": 5
}
